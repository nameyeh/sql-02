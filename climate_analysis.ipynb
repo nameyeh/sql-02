{
 "cells": [
  {
   "cell_type": "markdown",
   "metadata": {},
   "source": [
    "# Step 3 - Climate Analysis and Exploration"
   ]
  },
  {
   "cell_type": "code",
   "execution_count": 1,
   "metadata": {},
   "outputs": [],
   "source": [
    "# Import dependencies\n",
    "\n",
    "import pandas as pd\n",
    "import numpy as np\n",
    "from matplotlib import style\n",
    "style.use('ggplot')\n",
    "import matplotlib.pyplot as plt\n",
    "\n",
    "from sqlalchemy import Column, Float, Integer, String\n",
    "from sqlalchemy.ext.automap import automap_base\n",
    "from sqlalchemy.orm import Session\n",
    "from sqlalchemy import create_engine, inspect, func, desc"
   ]
  },
  {
   "cell_type": "markdown",
   "metadata": {},
   "source": [
    "### Choose start date and end date for trip"
   ]
  },
  {
   "cell_type": "code",
   "execution_count": 2,
   "metadata": {},
   "outputs": [],
   "source": [
    "vac_start = '2018-05-16'\n",
    "vac_end = '2018-05-20'"
   ]
  },
  {
   "cell_type": "markdown",
   "metadata": {},
   "source": [
    "### Database connection steps"
   ]
  },
  {
   "cell_type": "code",
   "execution_count": 3,
   "metadata": {},
   "outputs": [],
   "source": [
    "# Connect to sqlite database using create_engine \n",
    "\n",
    "engine = create_engine(\"sqlite:///hawaii.sqlite\")"
   ]
  },
  {
   "cell_type": "code",
   "execution_count": 4,
   "metadata": {},
   "outputs": [
    {
     "name": "stdout",
     "output_type": "stream",
     "text": [
      "['Measurement', 'Station']\n"
     ]
    }
   ],
   "source": [
    "# Use SQLAlchemy automap_base() to reflect your tables into classes and \n",
    "# save a reference to those classes called Station and Measurement.\n",
    "\n",
    "# Declare the base using automap\n",
    "Base = automap_base()\n",
    "\n",
    "# Reflect the database tables into classes\n",
    "Base.prepare(engine, reflect=True)\n",
    "\n",
    "# Check classes \n",
    "print(Base.classes.keys())\n",
    "\n",
    "# Create a session\n",
    "\n",
    "session = Session(engine)\n",
    "\n",
    "# Assign classes to variables, save a reference \n",
    "\n",
    "measurement = Base.classes.Measurement\n",
    "station = Base.classes.Station"
   ]
  },
  {
   "cell_type": "code",
   "execution_count": 5,
   "metadata": {},
   "outputs": [],
   "source": [
    "# Design a query to retrieve the last 12 months of precipitation data.\n",
    "    # Select only the date and prcp values.\n",
    "    \n",
    "prcp_q = session.query(measurement.date, measurement.prcp).\\\n",
    "    filter(measurement.date > '2017-04-16').\\\n",
    "    order_by(measurement.date).all()\n",
    "\n",
    "# # Check dates \n",
    "# print(prcp_q[0:10])\n",
    "# prcp_q[-10:]"
   ]
  },
  {
   "cell_type": "code",
   "execution_count": 6,
   "metadata": {},
   "outputs": [
    {
     "data": {
      "text/html": [
       "<div>\n",
       "<style scoped>\n",
       "    .dataframe tbody tr th:only-of-type {\n",
       "        vertical-align: middle;\n",
       "    }\n",
       "\n",
       "    .dataframe tbody tr th {\n",
       "        vertical-align: top;\n",
       "    }\n",
       "\n",
       "    .dataframe thead th {\n",
       "        text-align: right;\n",
       "    }\n",
       "</style>\n",
       "<table border=\"1\" class=\"dataframe\">\n",
       "  <thead>\n",
       "    <tr style=\"text-align: right;\">\n",
       "      <th></th>\n",
       "      <th>prcp</th>\n",
       "    </tr>\n",
       "    <tr>\n",
       "      <th>date</th>\n",
       "      <th></th>\n",
       "    </tr>\n",
       "  </thead>\n",
       "  <tbody>\n",
       "    <tr>\n",
       "      <th>2017-04-17</th>\n",
       "      <td>0.02</td>\n",
       "    </tr>\n",
       "    <tr>\n",
       "      <th>2017-04-17</th>\n",
       "      <td>0.41</td>\n",
       "    </tr>\n",
       "    <tr>\n",
       "      <th>2017-04-17</th>\n",
       "      <td>0.30</td>\n",
       "    </tr>\n",
       "    <tr>\n",
       "      <th>2017-04-17</th>\n",
       "      <td>1.04</td>\n",
       "    </tr>\n",
       "    <tr>\n",
       "      <th>2017-04-17</th>\n",
       "      <td>1.30</td>\n",
       "    </tr>\n",
       "  </tbody>\n",
       "</table>\n",
       "</div>"
      ],
      "text/plain": [
       "            prcp\n",
       "date            \n",
       "2017-04-17  0.02\n",
       "2017-04-17  0.41\n",
       "2017-04-17  0.30\n",
       "2017-04-17  1.04\n",
       "2017-04-17  1.30"
      ]
     },
     "execution_count": 6,
     "metadata": {},
     "output_type": "execute_result"
    }
   ],
   "source": [
    "# Load the query results into a Pandas DataFrame and set the index to the date column.\n",
    "\n",
    "prcp_df = pd.DataFrame(prcp_q,columns=['date', 'prcp'])\n",
    "prcp_df['date'] = pd.to_datetime(prcp_df['date'])\n",
    "# prcp_df['date'].dtype\n",
    "prcp_df = prcp_df.set_index('date')\n",
    "prcp_df.head()"
   ]
  },
  {
   "cell_type": "code",
   "execution_count": 7,
   "metadata": {},
   "outputs": [
    {
     "data": {
      "image/png": "[encoded data removed]",
      "text/plain": [
       "<matplotlib.figure.Figure at 0x195ff4c69b0>"
      ]
     },
     "metadata": {},
     "output_type": "display_data"
    }
   ],
   "source": [
    "# Plot the results using the DataFrame plot method.\n",
    "\n",
    "prcp_df.plot(title=\"Precipitation - Last 12 Months\",\\\n",
    "             color=\"navy\", grid=True)\n",
    "\n",
    "plt.show()"
   ]
  },
  {
   "cell_type": "code",
   "execution_count": 8,
   "metadata": {},
   "outputs": [
    {
     "data": {
      "text/html": [
       "<div>\n",
       "<style scoped>\n",
       "    .dataframe tbody tr th:only-of-type {\n",
       "        vertical-align: middle;\n",
       "    }\n",
       "\n",
       "    .dataframe tbody tr th {\n",
       "        vertical-align: top;\n",
       "    }\n",
       "\n",
       "    .dataframe thead th {\n",
       "        text-align: right;\n",
       "    }\n",
       "</style>\n",
       "<table border=\"1\" class=\"dataframe\">\n",
       "  <thead>\n",
       "    <tr style=\"text-align: right;\">\n",
       "      <th></th>\n",
       "      <th>prcp</th>\n",
       "    </tr>\n",
       "  </thead>\n",
       "  <tbody>\n",
       "    <tr>\n",
       "      <th>count</th>\n",
       "      <td>674.00000</td>\n",
       "    </tr>\n",
       "    <tr>\n",
       "      <th>mean</th>\n",
       "      <td>0.17132</td>\n",
       "    </tr>\n",
       "    <tr>\n",
       "      <th>std</th>\n",
       "      <td>0.43323</td>\n",
       "    </tr>\n",
       "    <tr>\n",
       "      <th>min</th>\n",
       "      <td>0.00000</td>\n",
       "    </tr>\n",
       "    <tr>\n",
       "      <th>25%</th>\n",
       "      <td>0.00000</td>\n",
       "    </tr>\n",
       "    <tr>\n",
       "      <th>50%</th>\n",
       "      <td>0.02000</td>\n",
       "    </tr>\n",
       "    <tr>\n",
       "      <th>75%</th>\n",
       "      <td>0.14000</td>\n",
       "    </tr>\n",
       "    <tr>\n",
       "      <th>max</th>\n",
       "      <td>6.25000</td>\n",
       "    </tr>\n",
       "  </tbody>\n",
       "</table>\n",
       "</div>"
      ],
      "text/plain": [
       "            prcp\n",
       "count  674.00000\n",
       "mean     0.17132\n",
       "std      0.43323\n",
       "min      0.00000\n",
       "25%      0.00000\n",
       "50%      0.02000\n",
       "75%      0.14000\n",
       "max      6.25000"
      ]
     },
     "execution_count": 8,
     "metadata": {},
     "output_type": "execute_result"
    }
   ],
   "source": [
    "prcp_df.describe()"
   ]
  },
  {
   "cell_type": "markdown",
   "metadata": {},
   "source": [
    "## Station Analysis "
   ]
  },
  {
   "cell_type": "code",
   "execution_count": 9,
   "metadata": {},
   "outputs": [
    {
     "name": "stdout",
     "output_type": "stream",
     "text": [
      "9\n"
     ]
    }
   ],
   "source": [
    "# Design a query to calculate the total number of stations.\n",
    "\n",
    "n_station = session.query(station.station).count()\n",
    "print(n_station)"
   ]
  },
  {
   "cell_type": "code",
   "execution_count": 10,
   "metadata": {},
   "outputs": [
    {
     "name": "stdout",
     "output_type": "stream",
     "text": [
      "(2772, 'USC00519281')\n",
      "(2696, 'USC00513117')\n",
      "(2685, 'USC00519397')\n",
      "(2572, 'USC00519523')\n",
      "(2484, 'USC00516128')\n",
      "(1937, 'USC00514830')\n",
      "(1932, 'USC00511918')\n",
      "(683, 'USC00517948')\n",
      "(342, 'USC00518838')\n"
     ]
    }
   ],
   "source": [
    "# Design a query to find the most active stations.\n",
    "    # List the stations and observation counts in descending order\n",
    "    # Which station has the highest number of observations?\n",
    "\n",
    "station_ct = session.query(func.count(measurement.station),\\\n",
    "            measurement.station).group_by(measurement.station).\\\n",
    "            order_by(desc(func.count(measurement.station)))\n",
    "for x in station_ct:\n",
    "    print(x)"
   ]
  },
  {
   "cell_type": "markdown",
   "metadata": {},
   "source": [
    "### Station USC00519281 has highest n of observations"
   ]
  },
  {
   "cell_type": "code",
   "execution_count": 11,
   "metadata": {},
   "outputs": [],
   "source": [
    "# Design a query to retrieve the last 12 months of temperature observation data (tobs).\n",
    "\n",
    "tobs = session.query(measurement.date, measurement.tobs).\\\n",
    "            filter(measurement.date > '2017-04-14').all()\n",
    "# tobs"
   ]
  },
  {
   "cell_type": "code",
   "execution_count": 12,
   "metadata": {},
   "outputs": [],
   "source": [
    "# Filter by the station with the highest number of observations.\n",
    "\n",
    "tobs_bystation = session.query(measurement.station, measurement.date, measurement.tobs).\\\n",
    "            filter(measurement.station == 'USC00519281').\\\n",
    "            filter(measurement.date > '2017-04-14').all()\n",
    "# tobs_bystation"
   ]
  },
  {
   "cell_type": "code",
   "execution_count": 13,
   "metadata": {},
   "outputs": [
    {
     "name": "stdout",
     "output_type": "stream",
     "text": [
      "83\n",
      "60\n"
     ]
    },
    {
     "data": {
      "text/html": [
       "<div>\n",
       "<style scoped>\n",
       "    .dataframe tbody tr th:only-of-type {\n",
       "        vertical-align: middle;\n",
       "    }\n",
       "\n",
       "    .dataframe tbody tr th {\n",
       "        vertical-align: top;\n",
       "    }\n",
       "\n",
       "    .dataframe thead th {\n",
       "        text-align: right;\n",
       "    }\n",
       "</style>\n",
       "<table border=\"1\" class=\"dataframe\">\n",
       "  <thead>\n",
       "    <tr style=\"text-align: right;\">\n",
       "      <th></th>\n",
       "      <th>station</th>\n",
       "      <th>date</th>\n",
       "      <th>tobs</th>\n",
       "    </tr>\n",
       "  </thead>\n",
       "  <tbody>\n",
       "    <tr>\n",
       "      <th>0</th>\n",
       "      <td>USC00519281</td>\n",
       "      <td>2017-04-15</td>\n",
       "      <td>78</td>\n",
       "    </tr>\n",
       "    <tr>\n",
       "      <th>1</th>\n",
       "      <td>USC00519281</td>\n",
       "      <td>2017-04-16</td>\n",
       "      <td>71</td>\n",
       "    </tr>\n",
       "    <tr>\n",
       "      <th>2</th>\n",
       "      <td>USC00519281</td>\n",
       "      <td>2017-04-17</td>\n",
       "      <td>67</td>\n",
       "    </tr>\n",
       "    <tr>\n",
       "      <th>3</th>\n",
       "      <td>USC00519281</td>\n",
       "      <td>2017-04-18</td>\n",
       "      <td>68</td>\n",
       "    </tr>\n",
       "    <tr>\n",
       "      <th>4</th>\n",
       "      <td>USC00519281</td>\n",
       "      <td>2017-04-19</td>\n",
       "      <td>67</td>\n",
       "    </tr>\n",
       "  </tbody>\n",
       "</table>\n",
       "</div>"
      ],
      "text/plain": [
       "       station        date  tobs\n",
       "0  USC00519281  2017-04-15    78\n",
       "1  USC00519281  2017-04-16    71\n",
       "2  USC00519281  2017-04-17    67\n",
       "3  USC00519281  2017-04-18    68\n",
       "4  USC00519281  2017-04-19    67"
      ]
     },
     "execution_count": 13,
     "metadata": {},
     "output_type": "execute_result"
    }
   ],
   "source": [
    "tobs_df = pd.DataFrame(tobs_bystation)\n",
    "\n",
    "print(tobs_df['tobs'].max())\n",
    "print(tobs_df['tobs'].min())\n",
    "\n",
    "tobs_df.head()"
   ]
  },
  {
   "cell_type": "code",
   "execution_count": 14,
   "metadata": {},
   "outputs": [
    {
     "data": {
      "image/png": "[encoded data removed]",
      "text/plain": [
       "<matplotlib.figure.Figure at 0x195ff95a1d0>"
      ]
     },
     "metadata": {},
     "output_type": "display_data"
    }
   ],
   "source": [
    "# Plot the results as a histogram with bins=12\n",
    "\n",
    "plt.hist(tobs_df['tobs'], bins=12)\n",
    "plt.title('Temperature Frequency')\n",
    "plt.xlabel('Temperature (F)')\n",
    "plt.ylabel('Frequency')\n",
    "plt.show()"
   ]
  },
  {
   "cell_type": "markdown",
   "metadata": {},
   "source": [
    "## Temperature Analaysis"
   ]
  },
  {
   "cell_type": "code",
   "execution_count": 15,
   "metadata": {},
   "outputs": [
    {
     "name": "stdout",
     "output_type": "stream",
     "text": [
      "[(68,)]\n",
      "[(79,)]\n",
      "[(73.5,)]\n"
     ]
    }
   ],
   "source": [
    "# Write a function called calc_temps that will accept a start date and end date (%Y-%m-%d) \n",
    "# and return the minimum, average, and maximum temperatures for that range of dates\n",
    "\n",
    "def calc_temps():\n",
    "    start_date = str(input(\"Enter start date (%Y-%m-%d): \"))\n",
    "    end_date = str(input(\"Enter end date (%Y-%m-%d): \"))\n",
    "    \n",
    "    temp_min = session.query(func.min(measurement.tobs)).\\\n",
    "            filter(measurement.date > start_date).\\\n",
    "            filter(measurement.date < end_date).all()\n",
    "            \n",
    "    temp_max = session.query(func.max(measurement.tobs)).\\\n",
    "            filter(measurement.date > start_date).\\\n",
    "            filter(measurement.date < end_date).all()\n",
    "            \n",
    "    temp_avg = session.query(func.avg(measurement.tobs)).\\\n",
    "            filter(measurement.date > start_date).\\\n",
    "            filter(measurement.date < end_date).all()\n",
    "    print(temp_min)\n",
    "    print(temp_max)\n",
    "    print(temp_avg)\n",
    "\n",
    "calc_temps()\n",
    "\n",
    "# vac_start = '2017-05-16'\n",
    "# vac_end = '2017-05-20'\n",
    "\n",
    "# Use the calc_temps function to calculate the min, avg, and max temperatures for your trip \n",
    "# using the matching dates from the previous year \n",
    "# (i.e. use \"2017-01-01\" if your trip start date was \"2018-01-01\")"
   ]
  },
  {
   "cell_type": "markdown",
   "metadata": {},
   "source": [
    "#### Enter start date (%Y-%m-%d): 2017-05-16\n",
    "#### Enter end date (%Y-%m-%d): 2017-05-20\n",
    "#### [(68,)] - min \n",
    "#### [(79,)] - max \n",
    "#### [(73.5,)] - avg"
   ]
  },
  {
   "cell_type": "code",
   "execution_count": 16,
   "metadata": {},
   "outputs": [
    {
     "data": {
      "image/png": "[encoded data removed]",
      "text/plain": [
       "<matplotlib.figure.Figure at 0x195ffa12780>"
      ]
     },
     "metadata": {},
     "output_type": "display_data"
    }
   ],
   "source": [
    "# Plot the min, avg, and max temperature from your previous query as a bar chart.\n",
    "#     Use the average temperature as the bar height.\n",
    "#     Use the peak-to-peak (tmax-tmin) value as the y error bar (yerr).\n",
    "t_min = 68\n",
    "t_max = 79\n",
    "t_avg = 73.5\n",
    "plt.figure(figsize=(1.5,3.5))\n",
    "plt.bar(\"\",t_avg, yerr=(t_max-t_min), color='salmon')\n",
    "plt.title('Trip Avg Temp')\n",
    "plt.ylabel('Temp (F)')\n",
    "plt.show()"
   ]
  }
 ],
 "metadata": {
  "kernelspec": {
   "display_name": "Python 3",
   "language": "python",
   "name": "python3"
  },
  "language_info": {
   "codemirror_mode": {
    "name": "ipython",
    "version": 3
   },
   "file_extension": ".py",
   "mimetype": "text/x-python",
   "name": "python",
   "nbconvert_exporter": "python",
   "pygments_lexer": "ipython3",
   "version": "3.6.4"
  }
 },
 "nbformat": 4,
 "nbformat_minor": 2
}
